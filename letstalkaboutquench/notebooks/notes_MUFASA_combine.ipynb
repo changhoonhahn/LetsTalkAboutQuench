{
 "cells": [
  {
   "cell_type": "markdown",
   "metadata": {},
   "source": [
    "Quick ipython notebook to preprocess/combine the data from \n",
    "\n",
    "`dat/MUFASA_SFRaveragedFromSFH.txt`\n",
    "and \n",
    "`dat/MUFASA_GALAXY.txt`\n",
    "\n",
    "notebook is obviously subject to change if those files are updated"
   ]
  },
  {
   "cell_type": "code",
   "execution_count": 2,
   "metadata": {
    "collapsed": true
   },
   "outputs": [],
   "source": [
    "import numpy as np\n",
    "\n",
    "import env\n",
    "import util as UT"
   ]
  },
  {
   "cell_type": "code",
   "execution_count": 4,
   "metadata": {},
   "outputs": [],
   "source": [
    "muf_gal = np.loadtxt(UT.dat_dir()+'MUFASA_GALAXY.txt', skiprows=13)\n",
    "muf_sfr = np.loadtxt(UT.dat_dir()+'MUFASA_SFRaveragedFromSFH.txt', skiprows=1)"
   ]
  },
  {
   "cell_type": "code",
   "execution_count": 6,
   "metadata": {},
   "outputs": [],
   "source": [
    "assert muf_gal.shape[0] == muf_sfr.shape[0]"
   ]
  },
  {
   "cell_type": "markdown",
   "metadata": {},
   "source": [
    "the columns we want out are: $\\log\\,M_*$, $\\log\\,\\mathrm{SFR}$ (instantaneous), $\\log\\,\\mathrm{SFR}$ Myr, $\\log\\,\\mathrm{SFR}$ 100Myr, $\\log\\,\\mathrm{SFR}$ 1Gyr, and central/satellite"
   ]
  },
  {
   "cell_type": "code",
   "execution_count": 10,
   "metadata": {},
   "outputs": [],
   "source": [
    "muf_data = np.zeros((muf_gal.shape[0], 6))\n",
    "muf_data[:,0] = muf_gal[:,6] # log M* \n",
    "muf_data[:,1] = muf_gal[:,7] # log SFR inst\n",
    "muf_data[:,2] = muf_sfr[:,0] # log SFR 10Myr\n",
    "muf_data[:,3] = muf_sfr[:,1] # log SFR 100Myr\n",
    "muf_data[:,4] = muf_sfr[:,2] # log SFR 1Gyr\n",
    "muf_data[:,4] = muf_gal[:,3] # central/satellite"
   ]
  },
  {
   "cell_type": "code",
   "execution_count": 14,
   "metadata": {},
   "outputs": [
    {
     "name": "stdout",
     "output_type": "stream",
     "text": [
      "[ 12.118 -99.       -inf    -inf  88.693   0.   ]\n",
      "[  11.887         1.532         1.39104563    1.40512427 -116.545         0.        ]\n",
      "[  1.18990000e+01  -9.90000000e+01             -inf  -1.13185435e-01\n",
      "   1.32645000e+02   0.00000000e+00]\n",
      "[  11.787  -99.        -inf     -inf -105.218    0.   ]\n",
      "[ 11.769 -99.       -inf    -inf -40.465   0.   ]\n"
     ]
    }
   ],
   "source": [
    "for i in range(5): \n",
    "    print muf_data[i,:]"
   ]
  },
  {
   "cell_type": "code",
   "execution_count": 15,
   "metadata": {
    "collapsed": true
   },
   "outputs": [],
   "source": [
    "np.savetxt(UT.dat_dir()+'MUFASA_combined.dat', muf_data, \n",
    "           fmt='%f %f %f %f %f %i', header='logM*, logSFR (isnt), logSFR (10Myr), logSFR (100Myr), logSFR (1Gyr), central/satellite')"
   ]
  },
  {
   "cell_type": "code",
   "execution_count": null,
   "metadata": {
    "collapsed": true
   },
   "outputs": [],
   "source": []
  }
 ],
 "metadata": {
  "kernelspec": {
   "display_name": "Python 2",
   "language": "python",
   "name": "python2"
  },
  "language_info": {
   "codemirror_mode": {
    "name": "ipython",
    "version": 2
   },
   "file_extension": ".py",
   "mimetype": "text/x-python",
   "name": "python",
   "nbconvert_exporter": "python",
   "pygments_lexer": "ipython2",
   "version": "2.7.13"
  }
 },
 "nbformat": 4,
 "nbformat_minor": 2
}

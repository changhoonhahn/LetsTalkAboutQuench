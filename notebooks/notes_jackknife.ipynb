{
 "cells": [
  {
   "cell_type": "markdown",
   "metadata": {},
   "source": [
    "Question: Does the distribution of maximum likelihoods obtained from subsamples estimate the likelihood of the entire sample? "
   ]
  },
  {
   "cell_type": "code",
   "execution_count": 1,
   "metadata": {},
   "outputs": [],
   "source": [
    "import numpy as np\n",
    "from scipy import optimize\n",
    "from corner import corner"
   ]
  },
  {
   "cell_type": "markdown",
   "metadata": {},
   "source": [
    "Lets begin with a simple example of samples drawn from a 1D Gaussian, where we can easily write the likelihood "
   ]
  },
  {
   "cell_type": "code",
   "execution_count": 2,
   "metadata": {},
   "outputs": [],
   "source": [
    "Truth = np.array([7., 17.])\n",
    "N = 10000"
   ]
  },
  {
   "cell_type": "code",
   "execution_count": 3,
   "metadata": {},
   "outputs": [],
   "source": [
    "def draw(theta, N): \n",
    "    return theta[0] + np.sqrt(theta[1]) * np.random.normal(size=N)"
   ]
  },
  {
   "cell_type": "code",
   "execution_count": 4,
   "metadata": {},
   "outputs": [],
   "source": [
    "np.random.seed(7)\n",
    "data = draw(Truth, N)"
   ]
  },
  {
   "cell_type": "markdown",
   "metadata": {},
   "source": [
    "The likelihood can be written as \n",
    "$$ln\\, p({y_n} | \\mu, V) = -\\frac{1}{2} \\sum\\limits_{n=1}^{N} \\frac{(y_n - \\mu)^2}{V} - \\frac{N}{2}ln\\,V$$"
   ]
  },
  {
   "cell_type": "code",
   "execution_count": 5,
   "metadata": {},
   "outputs": [],
   "source": [
    "def ln_L0(data, pars):\n",
    "    mean, var = pars\n",
    "    return np.sum(-0.5 * (data - mean) ** 2 / var) - (0.5 * len(data) * np.log(var))"
   ]
  },
  {
   "cell_type": "code",
   "execution_count": 6,
   "metadata": {},
   "outputs": [],
   "source": [
    "def ln_prior(pars, prior_info): \n",
    "    mean, var = pars\n",
    "    if mean < prior_info[0]: \n",
    "        return -np.Inf\n",
    "    if mean > prior_info[1]: \n",
    "        return -np.Inf\n",
    "    if var < prior_info[2]: \n",
    "        return -np.Inf\n",
    "    if var > prior_info[3]: \n",
    "        return -np.Inf\n",
    "    return 0."
   ]
  },
  {
   "cell_type": "code",
   "execution_count": 7,
   "metadata": {},
   "outputs": [],
   "source": [
    "def ln_Post0(pars, data, prior_info):\n",
    "    lnp = ln_prior(pars, prior_info)\n",
    "    if not np.isfinite(lnp):\n",
    "        return -np.Inf\n",
    "    return lnp + ln_L0(data, pars)"
   ]
  },
  {
   "cell_type": "code",
   "execution_count": 8,
   "metadata": {},
   "outputs": [],
   "source": [
    "def mcmc_step(pars, lnpvalue, lnp, args, stepsizes=None):\n",
    "    newpars = pars + stepsizes * np.random.normal(size=len(pars))\n",
    "    newlnpvalue = lnp(newpars, *args)\n",
    "    if (newlnpvalue - lnpvalue) > np.log(np.random.uniform()):\n",
    "        return newpars, newlnpvalue\n",
    "    return pars.copy(), lnpvalue\n",
    "\n",
    "def mcmc(pars0, lnp, nsteps, args, stepsizes=None):\n",
    "    pars = pars0.copy()\n",
    "    lnpvalue = lnp(pars, *args)\n",
    "    parss = np.zeros((nsteps, len(pars)))\n",
    "    for k in range(nsteps):\n",
    "        pars, lnpvalue = mcmc_step(pars, lnpvalue, lnp, args, stepsizes=stepsizes)\n",
    "        parss[k,:] = pars\n",
    "    return parss"
   ]
  },
  {
   "cell_type": "code",
   "execution_count": 9,
   "metadata": {},
   "outputs": [],
   "source": [
    "prior_info = np.array([0., 10., 0., 100.])\n",
    "stepsizes = np.array([4., 4.])\n",
    "pars0 = Truth.copy() \n",
    "Tbig = 2**19\n",
    "thinfactor = 2 ** 4\n",
    "mcmc_samples0 = mcmc(pars0, ln_Post0, Tbig, (data, prior_info, ), stepsizes=stepsizes)"
   ]
  },
  {
   "cell_type": "code",
   "execution_count": 10,
   "metadata": {},
   "outputs": [
    {
     "name": "stdout",
     "output_type": "stream",
     "text": [
      "0.001264574555539237\n"
     ]
    }
   ],
   "source": [
    "accept = mcmc_samples0[1:] != mcmc_samples0[:-1]\n",
    "print np.mean(accept)\n",
    "mcmc_samples0 = mcmc_samples0[::thinfactor]"
   ]
  },
  {
   "cell_type": "code",
   "execution_count": 11,
   "metadata": {},
   "outputs": [
    {
     "name": "stderr",
     "output_type": "stream",
     "text": [
      "WARNING:root:Too few points to create valid contours\n"
     ]
    },
    {
     "data": {
      "image/png": "[encoded data removed]",
      "text/plain": [
       "<Figure size 396x396 with 4 Axes>"
      ]
     },
     "metadata": {},
     "output_type": "display_data"
    }
   ],
   "source": [
    "fig = corner(mcmc_samples0, bins=32, labels=[r'mean $\\mu$', r'variance $V$'], \n",
    "             range=[prior_info[:2], prior_info[2:]], truths=Truth)\n",
    "             #range=[[6,8], [15, 20]], truths=Truth)"
   ]
  },
  {
   "cell_type": "code",
   "execution_count": 12,
   "metadata": {},
   "outputs": [],
   "source": [
    "ML_jack = [] \n",
    "n_jk = 100\n",
    "for i_jk in range(n_jk):\n",
    "    #sub_data = data[i_jk*50:(i_jk+1)*50]\n",
    "    #sub_data = np.random.choice(data, size=N, replace=True)\n",
    "    excluded = np.ones(N).astype(bool)\n",
    "    excluded[i_jk*(N/n_jk):(i_jk+1)*(N/n_jk)] = False\n",
    "    sub_data = data[excluded]\n",
    "    assert sub_data.shape[0] == N - N/n_jk\n",
    "    #draw(Truth, N)\n",
    "    ln_Li = lambda pars: -1.0 * ln_L0(sub_data, pars)\n",
    "    ML_i = optimize.minimize(ln_Li, Truth)\n",
    "    ML_jack.append(ML_i['x'])\n",
    "ML_jack = np.array(ML_jack)"
   ]
  },
  {
   "cell_type": "code",
   "execution_count": 13,
   "metadata": {},
   "outputs": [],
   "source": [
    "ML_boot = [] \n",
    "n_boot = 100\n",
    "for i_jk in range(n_boot):\n",
    "    sub_data = np.random.choice(data, size=N, replace=True)\n",
    "    ln_Li = lambda pars: -1.0 * ln_L0(sub_data, pars)\n",
    "    ML_i = optimize.minimize(ln_Li, Truth)\n",
    "    ML_boot.append(ML_i['x'])\n",
    "ML_boot = np.array(ML_boot)"
   ]
  },
  {
   "cell_type": "code",
   "execution_count": 14,
   "metadata": {},
   "outputs": [
    {
     "name": "stderr",
     "output_type": "stream",
     "text": [
      "The 'normed' kwarg is deprecated, and has been replaced by the 'density' kwarg.\n",
      "The 'normed' kwarg is deprecated, and has been replaced by the 'density' kwarg.\n",
      "The 'normed' kwarg is deprecated, and has been replaced by the 'density' kwarg.\n",
      "The 'normed' kwarg is deprecated, and has been replaced by the 'density' kwarg.\n",
      "The 'normed' kwarg is deprecated, and has been replaced by the 'density' kwarg.\n",
      "The 'normed' kwarg is deprecated, and has been replaced by the 'density' kwarg.\n"
     ]
    },
    {
     "data": {
      "text/plain": [
       "(16.0, 18.0)"
      ]
     },
     "execution_count": 14,
     "metadata": {},
     "output_type": "execute_result"
    },
    {
     "data": {
      "image/png": "[encoded data removed]",
      "text/plain": [
       "<Figure size 864x288 with 2 Axes>"
      ]
     },
     "metadata": {},
     "output_type": "display_data"
    }
   ],
   "source": [
    "fig = plt.figure(figsize=(12,4))\n",
    "sub = fig.add_subplot(121)\n",
    "_ = sub.hist(mcmc_samples0[:,0], color='C0', normed=True)\n",
    "_ = sub.hist(ML_boot[:,0], color='C1', normed=True)\n",
    "_ = sub.hist(ML_jack[:,0], color='C2', normed=True)\n",
    "sub.set_xlim([6., 8.])\n",
    "sub = fig.add_subplot(122)\n",
    "_ = sub.hist(mcmc_samples0[:,1], color='C0', normed=True)\n",
    "_ = sub.hist(ML_boot[:,1], color='C1', normed=True)\n",
    "_ = sub.hist(ML_jack[:,1], color='C2', normed=True)\n",
    "sub.set_xlim([16., 18.])"
   ]
  },
  {
   "cell_type": "code",
   "execution_count": 24,
   "metadata": {},
   "outputs": [
    {
     "name": "stdout",
     "output_type": "stream",
     "text": [
      "True Uncertainty\n",
      "[0.00188869 0.05946417]\n"
     ]
    }
   ],
   "source": [
    "print(\"True Uncertainty\")\n",
    "print np.var(mcmc_samples0, axis=0)"
   ]
  },
  {
   "cell_type": "code",
   "execution_count": 20,
   "metadata": {},
   "outputs": [
    {
     "name": "stdout",
     "output_type": "stream",
     "text": [
      "Jackknife Uncertainty\n",
      "[0.00248644 0.0673094 ]\n"
     ]
    }
   ],
   "source": [
    "print('Jackknife Uncertainty')\n",
    "print (float(n_jk) - 1)/float(n_jk) * np.sum((ML_jack - np.mean(mcmc_samples0, axis=0))**2, axis=0)"
   ]
  },
  {
   "cell_type": "code",
   "execution_count": 19,
   "metadata": {},
   "outputs": [
    {
     "name": "stdout",
     "output_type": "stream",
     "text": [
      "Bootstrap Uncertainty\n",
      "[0.00177137 0.06620651]\n"
     ]
    }
   ],
   "source": [
    "print('Bootstrap Uncertainty')\n",
    "print np.var(ML_boot, axis=0)"
   ]
  }
 ],
 "metadata": {
  "kernelspec": {
   "display_name": "Python 2",
   "language": "python",
   "name": "python2"
  },
  "language_info": {
   "codemirror_mode": {
    "name": "ipython",
    "version": 2
   },
   "file_extension": ".py",
   "mimetype": "text/x-python",
   "name": "python",
   "nbconvert_exporter": "python",
   "pygments_lexer": "ipython2",
   "version": "2.7.14"
  }
 },
 "nbformat": 4,
 "nbformat_minor": 2
}

{
 "cells": [
  {
   "cell_type": "markdown",
   "metadata": {},
   "source": [
    "cross match Claire's NSA subsample with other columns in the parent NSA catalog"
   ]
  },
  {
   "cell_type": "code",
   "execution_count": 16,
   "metadata": {},
   "outputs": [],
   "source": [
    "import h5py\n",
    "import numpy as np\n",
    "from astropy.io import fits\n",
    "from astropy.cosmology import WMAP7\n",
    "# -- iQuench -- \n",
    "from letstalkaboutquench import util as UT"
   ]
  },
  {
   "cell_type": "markdown",
   "metadata": {},
   "source": [
    "Read in Claire's low mass central (isolated) catalog"
   ]
  },
  {
   "cell_type": "code",
   "execution_count": 2,
   "metadata": {},
   "outputs": [],
   "source": [
    "f_claire = ''.join([UT.dat_dir(), 'dickey_NSA_iso_lowmass_gals.txt'])\n",
    "claire = np.loadtxt(f_claire, unpack=True, skiprows=1) # columns: NSAID MASS DHOST D4000 HAEW HALPHA_SFR HALPHA_SSFR"
   ]
  },
  {
   "cell_type": "code",
   "execution_count": 3,
   "metadata": {},
   "outputs": [
    {
     "name": "stdout",
     "output_type": "stream",
     "text": [
      "Claires same has 14998 galaxies\n"
     ]
    }
   ],
   "source": [
    "n_claire = len(claire[0])\n",
    "print('Claires same has %i galaxies' % n_claire)"
   ]
  },
  {
   "cell_type": "markdown",
   "metadata": {},
   "source": [
    "Read in NSA parent catalog"
   ]
  },
  {
   "cell_type": "code",
   "execution_count": 4,
   "metadata": {},
   "outputs": [],
   "source": [
    "f_nsa = fits.open(''.join([UT.dat_dir(), 'nsa_v0_1_2.fits']))\n",
    "nsa_data = f_nsa[1].data"
   ]
  },
  {
   "cell_type": "code",
   "execution_count": 5,
   "metadata": {},
   "outputs": [
    {
     "name": "stdout",
     "output_type": "stream",
     "text": [
      "145155 galaxies\n",
      "['IAUNAME', 'SUBDIR', 'RA', 'DEC', 'ISDSS', 'INED', 'ISIXDF', 'IALFALFA', 'IZCAT', 'ITWODF', 'MAG', 'Z', 'ZSRC', 'SIZE', 'RUN', 'CAMCOL', 'FIELD', 'RERUN', 'XPOS', 'YPOS', 'ZLG', 'ZDIST', 'ZDIST_ERR', 'NSAID', 'NMGY', 'NMGY_IVAR', 'OK', 'RNMGY', 'ABSMAG', 'AMIVAR', 'EXTINCTION', 'KCORRECT', 'KCOEFF', 'MTOL', 'B300', 'B1000', 'METS', 'MASS', 'XCEN', 'YCEN', 'NPROF', 'PROFMEAN', 'PROFMEAN_IVAR', 'QSTOKES', 'USTOKES', 'BASTOKES', 'PHISTOKES', 'PETROFLUX', 'PETROFLUX_IVAR', 'FIBERFLUX', 'FIBERFLUX_IVAR', 'BA50', 'PHI50', 'BA90', 'PHI90', 'SERSICFLUX', 'SERSICFLUX_IVAR', 'SERSIC_N', 'SERSIC_BA', 'SERSIC_PHI', 'ASYMMETRY', 'CLUMPY', 'DFLAGS', 'AID', 'PID', 'DVERSION', 'PROFTHETA', 'PETROTHETA', 'PETROTH50', 'PETROTH90', 'SERSIC_TH50', 'OBJNO', 'PLATE', 'FIBERID', 'MJD', 'COEFF', 'VDISP', 'D4000', 'D4000ERR', 'FA', 'FAERR', 'S2FLUX', 'S2FLUXERR', 'S2EW', 'S2EWERR', 'S2VMEAS', 'S2VMERR', 'S2RATIO', 'HAFLUX', 'HAFLUXERR', 'HAEW', 'HAEWERR', 'HAVMEAS', 'HAVMERR', 'N2FLUX', 'N2FLUXERR', 'N2EW', 'N2EWERR', 'N2VMEAS', 'N2VMERR', 'HBFLUX', 'HBFLUXERR', 'HBEW', 'HBEWERR', 'HBVMEAS', 'HBVMERR', 'O1FLUX', 'O1FLUXERR', 'O1EW', 'O1EWERR', 'O1VMEAS', 'O1VMERR', 'O2FLUX', 'O2FLUXERR', 'O2EW', 'O2EWERR', 'O2VMEAS', 'O2VMERR', 'O3FLUX', 'O3FLUXERR', 'O3EW', 'O3EWERR', 'O3VMEAS', 'O3VMERR', 'AHGEW', 'AHGEWERR', 'AHDEW', 'AHDEWERR', 'NE3EW', 'NE3EWERR', 'NE5EW', 'NE5EWERR', 'AV', 'S2NSAMP', 'RACAT', 'DECCAT', 'ZSDSSLINE', 'SURVEY', 'PROGRAMNAME', 'PLATEQUALITY', 'TILE', 'PLUG_RA', 'PLUG_DEC']\n"
     ]
    }
   ],
   "source": [
    "n_nsa = len(nsa_data.field('RA'))\n",
    "print('%i galaxies' % n_nsa)\n",
    "print(nsa_data.names)"
   ]
  },
  {
   "cell_type": "code",
   "execution_count": 7,
   "metadata": {},
   "outputs": [],
   "source": [
    "m_nsa = [] \n",
    "for i in range(n_claire): \n",
    "    match = (claire[0][i] == nsa_data.field(\"NSAID\")) \n",
    "    if np.sum(match) > 1: \n",
    "        raise ValueError\n",
    "    m_nsa.append(np.arange(n_nsa)[match])\n",
    "m_nsa = np.array(m_nsa)\n",
    "m_nsa = m_nsa.flatten()"
   ]
  },
  {
   "cell_type": "markdown",
   "metadata": {},
   "source": [
    "Now lets compute UV SFRs for Claire's galaxies"
   ]
  },
  {
   "cell_type": "code",
   "execution_count": 25,
   "metadata": {},
   "outputs": [],
   "source": [
    "# some useful functions\n",
    "def jansky(flux,kcorrect):\n",
    "    '''Getting fluxes in Janskies from Nanomaggies:\n",
    "    Inputs: Choose Petrosian/Sersic Nmgy and the relevant Kcorrection\n",
    "    '''\n",
    "    flux_in_Jy = flux*3631*(10.0**(-9.0))*(10**(kcorrect/(-2.5)))\n",
    "    return flux_in_Jy\n",
    "\n",
    "\n",
    "def UVsfr(z,fmag,nmag,rmag,f_flux):\n",
    "    ''' Calculate UV star formation rates. \n",
    "    Inputs: NSAID, z, F-band magnitude, N-band magnitude, r-band magnitude, F-band flux in Janskies\n",
    "    '''\n",
    "    fn = fmag - nmag\n",
    "    opt = nmag - rmag   # N-r\n",
    "    \n",
    "    #Luminosity Distance\n",
    "    dist = WMAP7.comoving_distance(z)\n",
    "    ldist = (1+z)*dist.value\n",
    "    \n",
    "    #calculating Attenuation 'atten'\n",
    "    atten = np.repeat(-999., len(fmag)) \n",
    "\n",
    "    case1 = np.where((opt > 4.) & (fn < 0.95))\n",
    "    atten[case1] = 3.32*fn[case1] + 0.22\n",
    "    case2 = np.where((opt > 4.) & (fn >= 0.95))\n",
    "    atten[case2] = 3.37\n",
    "    case3 = np.where((opt <= 4.) & (fn < 0.9))\n",
    "    atten[case3] = 2.99*fn[case3] + 0.27\n",
    "    case4 = np.where((opt <= 4.) & (fn >= 0.9))\n",
    "    atten[case4] = 2.96\n",
    "\n",
    "    #if opt >= 4.0:\n",
    "    #    if fn < 0.95:\n",
    "    #        atten = 3.32*fn + 0.22\n",
    "    #    else:\n",
    "    #        atten = 3.37\n",
    "    #else:\n",
    "    #    if fn < 0.90:\n",
    "    #        atten = 2.99*fn +0.27\n",
    "    #    else:\n",
    "    #        atten = 2.96\n",
    "\n",
    "    lum = 4.*np.pi*(ldist**2.0)*(3.087**2.0)*(10**(25.0 +(atten/2.5)))*f_flux  #Luminosity\n",
    "    sfr = 1.08*(10**(-28.0))*np.abs(lum)\n",
    "    return sfr"
   ]
  },
  {
   "cell_type": "code",
   "execution_count": 26,
   "metadata": {},
   "outputs": [],
   "source": [
    "nsa_fuv = nsa_data.field('NMGY')[:,0] # nanomaggies\n",
    "nsa_fuv_kcorr = nsa_data.field('KCORRECT')[:,0] # kcorrect\n",
    "nsa_fuv_jansky = jansky(nsa_fuv, nsa_fuv_kcorr)\n",
    "\n",
    "nsa_uv_sfr = UVsfr(nsa_data.field('z'), \n",
    "                   nsa_data.field('ABSMAG')[:,0], \n",
    "                   nsa_data.field('ABSMAG')[:,1], \n",
    "                   nsa_data.field('ABSMAG')[:,4], \n",
    "                   nsa_fuv_jansky) "
   ]
  },
  {
   "cell_type": "code",
   "execution_count": 29,
   "metadata": {},
   "outputs": [
    {
     "name": "stderr",
     "output_type": "stream",
     "text": [
      "/Users/chang/anaconda2/lib/python2.7/site-packages/ipykernel_launcher.py:3: RuntimeWarning: divide by zero encountered in log10\n",
      "  This is separate from the ipykernel package so we can avoid doing imports until\n"
     ]
    },
    {
     "data": {
      "text/plain": [
       "(-2.0, 1.0)"
      ]
     },
     "execution_count": 29,
     "metadata": {},
     "output_type": "execute_result"
    },
    {
     "data": {
      "image/png": "[encoded data removed]",
      "text/plain": [
       "<Figure size 432x288 with 1 Axes>"
      ]
     },
     "metadata": {},
     "output_type": "display_data"
    }
   ],
   "source": [
    "fig = plt.figure()\n",
    "sub = fig.add_subplot(111)\n",
    "sub.scatter(claire[1], np.log10(nsa_uv_sfr[m_nsa]), c='k', s=2)\n",
    "sub.set_xlim([8., 10.2])\n",
    "sub.set_ylim([-2., 1.])"
   ]
  },
  {
   "cell_type": "code",
   "execution_count": 30,
   "metadata": {},
   "outputs": [
    {
     "name": "stdout",
     "output_type": "stream",
     "text": [
      "name = NSAID\n",
      "name = MASS\n",
      "name = D4000\n",
      "name = HAEW\n"
     ]
    }
   ],
   "source": [
    "cols_claire = ['NSAID', 'MASS', 'DHOST', 'D4000', 'HAEW', 'HALPHA_SFR', 'HALPHA_SSFR']\n",
    "\n",
    "f = h5py.File(''.join([UT.dat_dir(), 'dickey_NSA_iso_lowmass_gals.hdf5']), 'w')\n",
    "# add in claire's data first\n",
    "for i_col, col in enumerate(cols_claire): \n",
    "    f.create_dataset(col, data=claire[i_col])\n",
    "\n",
    "for name in nsa_data.names:\n",
    "    if name in cols_claire: \n",
    "        print('name = %s' % name)\n",
    "        continue\n",
    "    f.create_dataset(name, data=nsa_data.field(name)[m_nsa])\n",
    "f.create_dataset('UVSFR', data=nsa_uv_sfr[m_nsa])\n",
    "f.close()"
   ]
  },
  {
   "cell_type": "markdown",
   "metadata": {},
   "source": [
    "also create light weight text file"
   ]
  },
  {
   "cell_type": "code",
   "execution_count": 36,
   "metadata": {},
   "outputs": [],
   "source": [
    "f_update = ''.join([UT.dat_dir(), 'dickey_NSA_iso_lowmass_gals_uvsfr.txt'])\n",
    "updata = np.array([claire[0], claire[1], claire[2], claire[3], claire[4], claire[5], claire[6], nsa_uv_sfr[m_nsa]])\n",
    "# columns: NSAID MASS DHOST D4000 HAEW HALPHA_SFR HALPHA_SSFR UV_SFR\n",
    "np.savetxt(f_update, updata.T, fmt='%i %f %f %f %f %f %f %f', header=\"columns: NSAID MASS DHOST D4000 HAEW HALPHA_SFR HALPHA_SSFR UV_SFR\")"
   ]
  },
  {
   "cell_type": "code",
   "execution_count": null,
   "metadata": {},
   "outputs": [],
   "source": []
  }
 ],
 "metadata": {
  "kernelspec": {
   "display_name": "Python 2",
   "language": "python",
   "name": "python2"
  },
  "language_info": {
   "codemirror_mode": {
    "name": "ipython",
    "version": 2
   },
   "file_extension": ".py",
   "mimetype": "text/x-python",
   "name": "python",
   "nbconvert_exporter": "python",
   "pygments_lexer": "ipython2",
   "version": "2.7.14"
  }
 },
 "nbformat": 4,
 "nbformat_minor": 2
}
